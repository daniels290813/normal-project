{
 "cells": [
  {
   "cell_type": "code",
   "execution_count": 1,
   "id": "ce0de2cc-b1eb-4468-8cb2-00928be6f444",
   "metadata": {},
   "outputs": [],
   "source": [
    "import mlrun"
   ]
  },
  {
   "cell_type": "code",
   "execution_count": 2,
   "id": "2686eabe-e583-4ef9-8153-f09cc18d5d5b",
   "metadata": {},
   "outputs": [
    {
     "data": {
      "text/plain": [
       "'1.7.0'"
      ]
     },
     "execution_count": 2,
     "metadata": {},
     "output_type": "execute_result"
    }
   ],
   "source": [
    "mlrun.__version__"
   ]
  },
  {
   "cell_type": "code",
   "execution_count": 4,
   "id": "7ad82016-c760-4076-83d3-a430be2e34a4",
   "metadata": {},
   "outputs": [
    {
     "name": "stdout",
     "output_type": "stream",
     "text": [
      "Writing vizro_dashboard.py\n"
     ]
    }
   ],
   "source": [
    "%%writefile vizro_dashboard.py\n",
    "\n",
    "import vizro.plotly.express as px\n",
    "from vizro import Vizro\n",
    "import vizro.models as vm\n",
    "\n",
    "df = px.data.iris()\n",
    "\n",
    "page = vm.Page(\n",
    "    title=\"My first dashboard\",\n",
    "    components=[\n",
    "        vm.Graph(figure=px.scatter(df, x=\"sepal_length\", y=\"petal_width\", color=\"species\")),\n",
    "        vm.Graph(figure=px.histogram(df, x=\"sepal_width\", color=\"species\")),\n",
    "    ],\n",
    "    controls=[\n",
    "        vm.Filter(column=\"species\", selector=vm.Dropdown(value=[\"ALL\"])),\n",
    "    ],\n",
    ")\n",
    "\n",
    "dashboard = vm.Dashboard(pages=[page])\n",
    "\n",
    "app = Vizro().build(dashboard)\n",
    "server = app.dash.server\n",
    "\n",
    "if __name__ == \"__main__\":\n",
    "    app.run()"
   ]
  },
  {
   "cell_type": "code",
   "execution_count": 3,
   "id": "b6cee835-116b-4668-8c00-df1afe9039dd",
   "metadata": {},
   "outputs": [
    {
     "name": "stdout",
     "output_type": "stream",
     "text": [
      "> 2024-12-05 08:48:13,157 [info] Created and saved project: {\"context\":\"./\",\"from_template\":null,\"name\":\"test-vizro-dani\",\"overwrite\":false,\"save\":true}\n",
      "> 2024-12-05 08:48:13,158 [info] Project created successfully: {\"project_name\":\"test-vizro-dani\",\"stored_in_db\":true}\n"
     ]
    }
   ],
   "source": [
    "project = mlrun.get_or_create_project('test-vizro-dani', user_project=False)"
   ]
  },
  {
   "cell_type": "code",
   "execution_count": 5,
   "id": "ea3afb5f-730a-46f5-8143-1ebe5f48b36a",
   "metadata": {},
   "outputs": [],
   "source": [
    "import shutil\n",
    "import os\n",
    "\n",
    "shutil.make_archive('myproject', 'zip', os.getcwd())\n",
    "# Logging as artifact\n",
    "proj_artifact = project.log_artifact('project_zip', local_path='myproject.zip', upload=True)\n",
    "# Setting artifact target path as source, to fetch it when building project image\n"
   ]
  },
  {
   "cell_type": "code",
   "execution_count": null,
   "id": "71ddb2e3-f351-4a85-9f33-2d3bd371cdb8",
   "metadata": {},
   "outputs": [],
   "source": [
    "project.set_source(source=proj_artifact.target_path, pull_at_runtime=True)\n",
    "\n",
    "# project.build_image(image=project.default_image,\n",
    "#                     set_as_default=True,\n",
    "#                     base_image='mlrun/mlrun',\n",
    "#                     requirements=['vizro', 'gunicorn', 'Werkzeug==2.2.2'])"
   ]
  },
  {
   "cell_type": "code",
   "execution_count": null,
   "id": "fbbce64d-725a-46bb-a2c6-cd88979daba3",
   "metadata": {},
   "outputs": [],
   "source": [
    "# Specify source to be loaded on build time or run time\n",
    "application = project.set_function(name=\"vizro-dashboard\",\n",
    "                                   image=project.default_image,\n",
    "                                   kind=\"application\")\n",
    "\n",
    "application.set_internal_application_port(8050)\n",
    "application.spec.command = \"gunicorn\"\n",
    "application.spec.args = [\n",
    "    \"vizro_dashboard:server\",\n",
    "    \"--bind\",\n",
    "    \"0.0.0.0:8050\",\n",
    "    \"--log-level\",\n",
    "    \"debug\",\n",
    "]\n",
    "\n",
    "project.save()"
   ]
  },
  {
   "cell_type": "code",
   "execution_count": null,
   "id": "d9d3137e-3fcf-4e67-9f06-aaf43c219a75",
   "metadata": {},
   "outputs": [],
   "source": [
    "project.deploy_function('vizro-dashboard',\n",
    "                        env={k: str(v) for k, v in project_params.items()})"
   ]
  }
 ],
 "metadata": {
  "kernelspec": {
   "display_name": "Python 3 (ipykernel)",
   "language": "python",
   "name": "python3"
  },
  "language_info": {
   "codemirror_mode": {
    "name": "ipython",
    "version": 3
   },
   "file_extension": ".py",
   "mimetype": "text/x-python",
   "name": "python",
   "nbconvert_exporter": "python",
   "pygments_lexer": "ipython3",
   "version": "3.9.13"
  }
 },
 "nbformat": 4,
 "nbformat_minor": 5
}
